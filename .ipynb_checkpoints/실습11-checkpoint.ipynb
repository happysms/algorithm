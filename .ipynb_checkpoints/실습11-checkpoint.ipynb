{
 "cells": [
  {
   "cell_type": "code",
   "execution_count": 33,
   "metadata": {},
   "outputs": [
    {
     "name": "stdout",
     "output_type": "stream",
     "text": [
      "[1, 2, 3, 2]\n",
      "[1, 3, 2, 3]\n",
      "[2, 1, 3, 1]\n",
      "[2, 3, 1, 3]\n",
      "[3, 1, 2, 1]\n",
      "[3, 2, 1, 2]\n"
     ]
    }
   ],
   "source": [
    "def color(i , vcolor):\n",
    "    if promising(i, vcolor):\n",
    "        if i == n - 1:\n",
    "            print(vcolor)\n",
    "        else:\n",
    "            for c in range(1, m + 1):   \n",
    "                vcolor[i + 1] = c\n",
    "                color(i + 1 , vcolor)\n",
    "                \n",
    "                \n",
    "            \n",
    "    \n",
    "def promising(i, vcolor):\n",
    "    switch = True\n",
    "    j = 0\n",
    "    while(j < i and switch):\n",
    "        if w[i][j] and vcolor[i] == vcolor[j]:\n",
    "            switch = False\n",
    "        j += 1\n",
    "    return switch\n",
    "    \n",
    "    \n",
    "n = 4\n",
    "w = [[0,1,1,1], [1,0,1,0] , [1,1,0,1], [1,0,1,0]]\n",
    "vcolor = n * [0]\n",
    "m = 3\n",
    "color(-1, vcolor)"
   ]
  },
  {
   "cell_type": "code",
   "execution_count": null,
   "metadata": {},
   "outputs": [],
   "source": []
  },
  {
   "cell_type": "code",
   "execution_count": null,
   "metadata": {},
   "outputs": [],
   "source": []
  }
 ],
 "metadata": {
  "kernelspec": {
   "display_name": "Python 3",
   "language": "python",
   "name": "python3"
  },
  "language_info": {
   "codemirror_mode": {
    "name": "ipython",
    "version": 3
   },
   "file_extension": ".py",
   "mimetype": "text/x-python",
   "name": "python",
   "nbconvert_exporter": "python",
   "pygments_lexer": "ipython3",
   "version": "3.8.5"
  }
 },
 "nbformat": 4,
 "nbformat_minor": 4
}
