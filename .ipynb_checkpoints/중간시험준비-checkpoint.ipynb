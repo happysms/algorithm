{
 "cells": [
  {
   "cell_type": "code",
   "execution_count": null,
   "metadata": {
    "colab": {
     "base_uri": "https://localhost:8080/"
    },
    "id": "XVcOdoo5Ug_b",
    "outputId": "534cb730-35dd-4db3-a04f-3aa7438d9f62"
   },
   "outputs": [
    {
     "name": "stdout",
     "output_type": "stream",
     "text": [
      "0\t3\t6\t1000\t\n",
      "3\t0\t4\t2\t\n",
      "6\t4\t0\t5\t\n",
      "1000\t2\t5\t0\t\n",
      "\n",
      "{(4, 2), (2, 0), (1, 0), (3, 2)}\n"
     ]
    }
   ],
   "source": [
    "#prim 알고리즘\n",
    "# 강의자료 알고리즘\n",
    "\n",
    "inf = 1000\n",
    "w=[[0,  1,  3,inf, inf],\n",
    "   [1,  0,  3,6,   inf],\n",
    "   [3,  3,  0,4,   2],\n",
    "   [inf,6,  4,0,   5],\n",
    "   [inf,inf,2,5,   0]]\n",
    "\n",
    "F = set()\n",
    "printMatrix(w)\n",
    "\n",
    "n = len(w)\n",
    "nearest = n * [0]\n",
    "distance = n * [0]\n",
    "for i in range(1, n):\n",
    "    nearest[i] = 0\n",
    "    distance[i] = w[0][i]\n",
    "\n",
    "for _ in range(1, n):\n",
    "    min = inf  \n",
    "    vnear = 0\n",
    "    for j in range(1, n):\n",
    "        if 0 <= distance[j] < min:\n",
    "            min = distance[j]\n",
    "            vnear = j\n",
    "    e = (vnear, nearest[vnear])\n",
    "    F.add(e)  # 첫번째 노드에서 가장 가까운 노드 탐색하고 넣기\n",
    "    distance[vnear] = -1  # 이미 처리된 노드, 가장 첫번째 노드에서 vnear노드까지 가장 가까운 거리 처리\n",
    "    for j in range(1, n): \n",
    "        if w[j][vnear] < distance[j]: # 다른 노드 j를 거쳐서 vnear노드로 도달하는데 걸리는 거리와, 첫번째 노드에서 한번에 가는 경우 혹은 이미 지정된 최단 거리보다 가깝다면 갱신 \n",
    "            distance[j] = w[j][vnear]\n",
    "            nearest[j] = vnear # 첫번째 노드에서 j번째 노드에 도달하는데 가장 가까운 거리를 등록.\n",
    "\n",
    "print()\n",
    "\n",
    "print(F)"
   ]
  },
  {
   "cell_type": "code",
   "execution_count": 17,
   "metadata": {},
   "outputs": [],
   "source": [
    "import utility"
   ]
  },
  {
   "cell_type": "code",
   "execution_count": null,
   "metadata": {
    "id": "Z4YZ-Fr4XlQF"
   },
   "outputs": [],
   "source": [
    "# 행렬 출력\n",
    "def printMatrix(d):\n",
    "    n = len(d)\n",
    "    m = len(d[0])\n",
    "\n",
    "    for i in range(0, n):\n",
    "        for j in range(0 , m):\n",
    "            print(d[i][j] , end = \"\\t\")\n",
    "        print()"
   ]
  },
  {
   "cell_type": "code",
   "execution_count": 3,
   "metadata": {
    "colab": {
     "base_uri": "https://localhost:8080/",
     "height": 283
    },
    "id": "sSYuLNLrXpVW",
    "outputId": "00f2e2c8-0ed6-4da5-d31a-b82f52cb67e4"
   },
   "outputs": [
    {
     "name": "stdout",
     "output_type": "stream",
     "text": [
      "d\n"
     ]
    },
    {
     "ename": "ValueError",
     "evalue": "invalid literal for int() with base 10: 'd'",
     "output_type": "error",
     "traceback": [
      "\u001b[0;31m---------------------------------------------------------------------------\u001b[0m",
      "\u001b[0;31mValueError\u001b[0m                                Traceback (most recent call last)",
      "\u001b[0;32m<ipython-input-3-86a3db5a3b86>\u001b[0m in \u001b[0;36m<module>\u001b[0;34m\u001b[0m\n\u001b[1;32m     21\u001b[0m \u001b[0;34m\u001b[0m\u001b[0m\n\u001b[1;32m     22\u001b[0m \u001b[0;31m# 노드의 개수와 간선(union 연산)의 개수 입력받기\u001b[0m\u001b[0;34m\u001b[0m\u001b[0;34m\u001b[0m\u001b[0;34m\u001b[0m\u001b[0m\n\u001b[0;32m---> 23\u001b[0;31m \u001b[0mv\u001b[0m\u001b[0;34m,\u001b[0m \u001b[0me\u001b[0m \u001b[0;34m=\u001b[0m \u001b[0mmap\u001b[0m\u001b[0;34m(\u001b[0m\u001b[0mint\u001b[0m\u001b[0;34m,\u001b[0m \u001b[0minput\u001b[0m\u001b[0;34m(\u001b[0m\u001b[0;34m)\u001b[0m\u001b[0;34m.\u001b[0m\u001b[0msplit\u001b[0m\u001b[0;34m(\u001b[0m\u001b[0;34m)\u001b[0m\u001b[0;34m)\u001b[0m\u001b[0;34m\u001b[0m\u001b[0;34m\u001b[0m\u001b[0m\n\u001b[0m\u001b[1;32m     24\u001b[0m \u001b[0mparent\u001b[0m \u001b[0;34m=\u001b[0m \u001b[0;34m[\u001b[0m\u001b[0;36m0\u001b[0m\u001b[0;34m]\u001b[0m \u001b[0;34m*\u001b[0m \u001b[0;34m(\u001b[0m\u001b[0mv\u001b[0m \u001b[0;34m+\u001b[0m \u001b[0;36m1\u001b[0m\u001b[0;34m)\u001b[0m \u001b[0;31m# 부모 테이블 초기화\u001b[0m\u001b[0;34m\u001b[0m\u001b[0;34m\u001b[0m\u001b[0m\n\u001b[1;32m     25\u001b[0m \u001b[0;34m\u001b[0m\u001b[0m\n",
      "\u001b[0;31mValueError\u001b[0m: invalid literal for int() with base 10: 'd'"
     ]
    }
   ],
   "source": [
    "# 크루스칼 알고리즘 (동빈나 코드)\n",
    "\n",
    "#특정 원소가 속한 집합을 찾기\n",
    "def find_parent(parent, x):\n",
    "  # 루트 노드가 아니라면, 루트 노드를 찾을 때까지 재귀적으로 호출\n",
    "  if parent[x] != x:\n",
    "    parent[x] = find_parent(parent, parent[x])\n",
    "  \n",
    "  return parent[x]\n",
    "\n",
    "# 두 원소가 속한 집합을 합치기\n",
    "\n",
    "def union_parent(parent, a, b):\n",
    "  a = find_parent(parent, a)\n",
    "  b = find_parent(parent, b)\n",
    "  \n",
    "  if a < b:\n",
    "    parent[b] = a\n",
    "  else:\n",
    "    parent[a] = b\n",
    "\n",
    "# 노드의 개수와 간선(union 연산)의 개수 입력받기\n",
    "v, e = map(int, input().split())\n",
    "parent = [0] * (v + 1) # 부모 테이블 초기화\n",
    "\n",
    "# 모든 간선을 담을 리스트와 최종 비용을 담을 변수\n",
    "edges = []\n",
    "result = 0\n",
    "\n",
    "# 부모 테이블상에서, 부모를 자기 자신으로 초기화 \n",
    "for i in range(1, v + 1):\n",
    "  parent[i] = i\n",
    "\n",
    "# 모든 간선에 대한 정보를 입력받기\n",
    "for _ in range(e):\n",
    "  a, b, cost = map(int, input().split())\n",
    "  # 비용순으로 정렬하기 위해서 튜플의 첫 번째 원소를 비용으로 설정\n",
    "  edges.append((cost,a, b))\n",
    "\n",
    "# 간선을 비용순으로 정렬\n",
    "edges.sort()\n",
    "\n",
    "# 간선을 하나씩 확인하며\n",
    "for edge in edges:\n",
    "  cost, a, b = edge\n",
    "  # 사이클이 발생하지 않는 경우에만 집합에 포함\n",
    "  if find_parent(parent, a) != find_parent(parent, b):\n",
    "    union_parent(parent, a, b)\n",
    "    result += cost\n",
    "\n",
    "print(result)"
   ]
  },
  {
   "cell_type": "code",
   "execution_count": null,
   "metadata": {
    "colab": {
     "base_uri": "https://localhost:8080/"
    },
    "id": "fdLrspgNagJb",
    "outputId": "69d4f96a-c4b5-4e7e-f358-a5b4abd3605e"
   },
   "outputs": [
    {
     "name": "stdout",
     "output_type": "stream",
     "text": [
      "{(3, 'B', 'C'), (1, 'A', 'B'), (4, 'C', 'D'), (2, 'C', 'E')}\n"
     ]
    }
   ],
   "source": [
    "# 크루스칼 강의자료 코드\n",
    "\n",
    "parent = dict()\n",
    "rank = dict()\n",
    "\n",
    "def make_singleton_set(v):\n",
    "  parent[v] = v\n",
    "  rank[v] = 1\n",
    "\n",
    "def find(v):\n",
    "  if parent[v] != v:\n",
    "    parent[v] = find(parent[v])\n",
    "  return parent[v]\n",
    "  \n",
    "\n",
    "def union(r1, r2):\n",
    "  if r1 != r2:\n",
    "    if rank[r1] > rank[r2]:\n",
    "      parent[r2] = r1\n",
    "      rank[r1] += rank[r2]\n",
    "    else:\n",
    "      parent[r1] = r2\n",
    "      if rank[r1] == rank[r2]:  # 여기는 무슨 역할?\n",
    "        rank[r2] += rank[r1]  #~~~~\n",
    "\n",
    "def kruskal(graph):\n",
    "  edges = sorted(graph['edges'] , key = lambda x : x[0])\n",
    "  n = len(graph['edges'])\n",
    "  initial = [0] * n\n",
    "\n",
    "  f = set()\n",
    "\n",
    "  for i in range(n):\n",
    "    k, j = edges[i][1] , edges[i][2]\n",
    "    p = find(k)\n",
    "    q = find(j)\n",
    "\n",
    "    if p != q:\n",
    "      union(p,q)\n",
    "      f.add(edges[i])\n",
    "\n",
    "  return f\n",
    "\n",
    "      \n",
    "graph = {\n",
    "    'vertices': ['A' , 'B', 'C' , 'D' , 'E'],\n",
    "    'edges' : set([(1, 'A', 'B'),\n",
    "                   (3, 'A', 'C'),\n",
    "                   (3, 'B' ,'C'),\n",
    "                   (6, 'B' , 'D'),\n",
    "                   (4, 'C' , 'D'),\n",
    "                   (2, 'C' , 'E'),\n",
    "                   (5, 'D', 'E')\n",
    "                   ])\n",
    "}\n",
    "\n",
    "for i in range(len(graph['vertices'])):\n",
    "  make_singleton_set(graph['vertices'][i])\n",
    "\n",
    "\n",
    "mst = kruskal(graph)\n",
    "print(mst)"
   ]
  },
  {
   "cell_type": "code",
   "execution_count": null,
   "metadata": {
    "colab": {
     "base_uri": "https://localhost:8080/",
     "height": 130
    },
    "id": "SZPtsGZ3i67w",
    "outputId": "3599901d-76f0-4e8c-9a3c-08011a7fdc04"
   },
   "outputs": [
    {
     "ename": "IndentationError",
     "evalue": "ignored",
     "output_type": "error",
     "traceback": [
      "\u001b[0;36m  File \u001b[0;32m\"<ipython-input-3-69240dbd27d0>\"\u001b[0;36m, line \u001b[0;32m33\u001b[0m\n\u001b[0;31m    for b in range(1, n + 1):\u001b[0m\n\u001b[0m    ^\u001b[0m\n\u001b[0;31mIndentationError\u001b[0m\u001b[0;31m:\u001b[0m unexpected indent\n"
     ]
    }
   ],
   "source": [
    "# Floyd - Warshall Algorithm\n",
    "\n",
    "INF = int(1e9) # 무한을 의미하는 값으로 10억을 설정\n",
    "\n",
    "# 노드의 개수 및 간선의 개수를 입력받기\n",
    "n = int(input())\n",
    "m = int(input())\n",
    "\n",
    "# 2차원 리스트(그래프 표현)를 만들고, 모든 값을 무한으로 초기화\n",
    "graph = [[INF] * (n + 1) for _ in range(n + 1)]\n",
    "\n",
    "# 자기 자신에서 자기 자신으로 가는 비용은 0으로 초기화\n",
    "for a in range(1, n + 1):\n",
    "    for b in range(1, n + 1):\n",
    "        if a == b:\n",
    "            graph[a][b] = 0\n",
    "\n",
    "# 각 간선에 대한 정보를 입력받아, 그 값으로 초기화\n",
    "for _ in range(m):\n",
    "    # A에서 B로 가는 비용은 C라고 설정\n",
    "    a , b, c = map(int, input().split())\n",
    "    graph[a][b] = c\n",
    "    \n",
    "# 점화식에 따라 플로이드 워셜 알고리즘을 수행\n",
    "for k in range(1, n + 1):\n",
    "    for a in range(1 , n + 1):\n",
    "        for b in range(1, n + 1):\n",
    "            graph[a][b] = min(graph[a][b], graph[a][k] + graph[k][b])\n",
    "\n",
    "# 수행된 결과를 출력\n",
    "for a in range(1, n + 1):6\n",
    "    for b in range(1, n + 1):\n",
    "        # 도달할 수 없는 경우, 무한이라고 출력\n",
    "        if graph[a][b] == INF:\n",
    "            print(\"INFINITY\", end = \" \")\n",
    "        # 도달할 수 있는 거리를 출력\n",
    "        else:\n",
    "            print(graph[a][b] , end = \" \")\n",
    "    print()"
   ]
  },
  {
   "cell_type": "code",
   "execution_count": null,
   "metadata": {
    "colab": {
     "base_uri": "https://localhost:8080/"
    },
    "id": "0XhltgoLHqv-",
    "outputId": "7a2e4f8c-b5a6-457e-dd12-17cc897748a7"
   },
   "outputs": [
    {
     "name": "stdout",
     "output_type": "stream",
     "text": [
      "0 1 2 3 \n",
      "1 0 1 2 \n",
      "1000 1000 0 1 \n",
      "1000 1000 1000 0 \n",
      "\n",
      "0 0 2 3 \n",
      "0 0 0 3 \n",
      "0 0 0 0 \n",
      "0 0 0 0 \n",
      "\n"
     ]
    }
   ],
   "source": [
    "# 강의 자료 floid\n",
    "\n",
    "def allShortestPath(g, n):\n",
    "    d = g.copy()\n",
    "    d.insert(0, [0] * (n + 1))\n",
    "    for i in range(1, n + 1):\n",
    "        d[i].insert(0, 0)\n",
    "    p = [[0] * (n + 1) for _ in range(n + 1)]\n",
    "    \n",
    "    for k in range(1, n + 1):\n",
    "        for i in range(1, n + 1):\n",
    "            for j in range(1, n + 1):\n",
    "                if d[i][j] >  d[i][k] + d[k][j]:\n",
    "                    p[i][j] = k\n",
    "                    d[i][j] = d[i][k] + d[k][j]     \n",
    "    return d, p\n",
    "    \n",
    "def printMatrix(d):\n",
    "    n = len(d[0])\n",
    "    for i in range(1, n):\n",
    "        for j in range(1 , n):\n",
    "            print(d[i][j] , end = \" \")\n",
    "        print()\n",
    "        \n",
    "        \n",
    "def path(p, q, r):\n",
    "    if p[q][r] != 0:\n",
    "        path(p, q, p[q][r])\n",
    "        print(\"v\", p[q][r])\n",
    "        path(p, p[q][r] , r)\n",
    "\n",
    "inf = 1000\n",
    "\n",
    "g = [[0 , 1, inf, 1, 5],\n",
    "    [9, 0 ,3, 2, inf],\n",
    "    [inf, inf, 0 , 4, inf],\n",
    "    [inf, inf, 2, 0 , 3],\n",
    "    [3, inf, inf, inf, 0]]\n",
    "\n",
    "g2 = [[0, 1 , 3 , 10],\n",
    "      [1, 0, 1, inf],\n",
    "      [inf, inf, 0 , 1],\n",
    "      [inf, inf, inf, 0]]\n",
    "\n",
    "d, p = allShortestPath(g2, 4)\n",
    "\n",
    "printMatrix(d)\n",
    "\n",
    "print()\n",
    "printMatrix(p)\n",
    "\n",
    "print()\n",
    "\n",
    "path(p, 4, 3)\n",
    "\n"
   ]
  },
  {
   "cell_type": "code",
   "execution_count": 18,
   "metadata": {
    "colab": {
     "base_uri": "https://localhost:8080/"
    },
    "id": "OG0FYXMcOjxd",
    "outputId": "2dd30592-ab72-42fd-f78b-a8b3343c3295"
   },
   "outputs": [
    {
     "name": "stdout",
     "output_type": "stream",
     "text": [
      "0\t0\t0\t0\t0\t\n",
      "0\t0\t6\t12\t26\t\n",
      "0\t0\t0\t9\t24\t\n",
      "0\t0\t0\t0\t12\t\n",
      "0\t0\t0\t0\t0\t\n",
      "\n",
      "0\t0\t0\t0\t0\t\n",
      "0\t0\t1\t2\t2\t\n",
      "0\t0\t0\t2\t2\t\n",
      "0\t0\t0\t0\t3\t\n",
      "0\t0\t0\t0\t0\t\n",
      "((A1A2)(A3A4))"
     ]
    }
   ],
   "source": [
    "# 연쇄 행렬 곱셈\n",
    "def order(p, i, j):\n",
    "    if i == j:\n",
    "        print(\"A\" + str(i), end='')\n",
    "    else:\n",
    "        k = p[i][j]\n",
    "        print(\"(\", end='')\n",
    "        order(p, i, k)\n",
    "        order(p, k+1, j)\n",
    "        print(\")\", end='')\n",
    "\n",
    "\n",
    "d = [2, 3, 1, 3, 4]\n",
    "n = len(d) - 1\n",
    "\n",
    "m = [[0 for j in range(1, n + 2)] for i in range(1, n + 2)]\n",
    "p = [[0 for j in range(1, n + 2)] for i in range(1, n + 2)]\n",
    "\n",
    "for diagonal in range(1, n):\n",
    "    for i in range(1, n-diagonal+1):\n",
    "        j = i + diagonal\n",
    "        min_val = 1000\n",
    "        min_k = i\n",
    "        for k in range(i, j):\n",
    "            num = m[i][k] + m[k+1][j] + d[i-1]*d[k]*d[j]\n",
    "            if num < min_val:\n",
    "                min_val = num\n",
    "                min_k = k\n",
    "        m[i][j] = min_val\n",
    "        p[i][j] = min_k\n",
    "\n",
    "printMatrix(m)\n",
    "print()\n",
    "printMatrix(p)\n",
    "order(p, 1, 4)"
   ]
  },
  {
   "cell_type": "code",
   "execution_count": 20,
   "metadata": {},
   "outputs": [],
   "source": [
    "class Node:\n",
    "    def __init__ (self, data):\n",
    "        self.l_child = None\n",
    "        self.r_child = None\n",
    "        self.data = data\n",
    "        \n",
    "    def tree(key, r , i, j):\n",
    "        k = r[i][j]\n",
    "        if k == 0:\n",
    "            return \n",
    "        \n",
    "        else:\n",
    "            p = Node(key[k])\n",
    "            p.l_child = Node.tree(key, r, i, k - 1)\n",
    "            p.r_child = Node.tree(key, r, k + 1, j)\n",
    "            "
   ]
  },
  {
   "cell_type": "code",
   "execution_count": 21,
   "metadata": {
    "colab": {
     "base_uri": "https://localhost:8080/"
    },
    "id": "xcCVNyIaPEbZ",
    "outputId": "104be5a8-09cc-4e3e-a924-93a99bd4c023"
   },
   "outputs": [
    {
     "name": "stdout",
     "output_type": "stream",
     "text": [
      "0\t0\t0\t0\t0\t0\t0\t\n",
      "0\t0.27\t0.87\t1.01\t1.48\t1.87\t0\t\n",
      "0\t0\t0.33\t0.47\t0.94\t1.33\t0\t\n",
      "0\t0\t0\t0.07\t0.34\t0.6\t0\t\n",
      "0\t0\t0\t0\t0.2\t0.46\t0\t\n",
      "0\t0\t0\t0\t0\t0.13\t0\t\n",
      "0\t0\t0\t0\t0\t0\t0\t\n",
      "\n",
      "0\t0\t0\t0\t0\t0\t0\t\n",
      "0\t1\t2\t2\t2\t2\t0\t\n",
      "0\t0\t2\t2\t2\t2\t0\t\n",
      "0\t0\t0\t3\t4\t4\t0\t\n",
      "0\t0\t0\t0\t4\t4\t0\t\n",
      "0\t0\t0\t0\t0\t5\t0\t\n",
      "0\t0\t0\t0\t0\t0\t0\t\n",
      "\n",
      "\n"
     ]
    },
    {
     "ename": "AttributeError",
     "evalue": "module 'utility' has no attribute 'print_preOrder'",
     "output_type": "error",
     "traceback": [
      "\u001b[0;31m---------------------------------------------------------------------------\u001b[0m",
      "\u001b[0;31mAttributeError\u001b[0m                            Traceback (most recent call last)",
      "\u001b[0;32m<ipython-input-21-7e881c47ec97>\u001b[0m in \u001b[0;36m<module>\u001b[0;34m\u001b[0m\n\u001b[1;32m     51\u001b[0m \u001b[0mutility\u001b[0m\u001b[0;34m.\u001b[0m\u001b[0mprint_inOrder\u001b[0m\u001b[0;34m(\u001b[0m\u001b[0mroot\u001b[0m\u001b[0;34m)\u001b[0m\u001b[0;34m\u001b[0m\u001b[0;34m\u001b[0m\u001b[0m\n\u001b[1;32m     52\u001b[0m \u001b[0mprint\u001b[0m\u001b[0;34m(\u001b[0m\u001b[0;34m)\u001b[0m\u001b[0;34m\u001b[0m\u001b[0;34m\u001b[0m\u001b[0m\n\u001b[0;32m---> 53\u001b[0;31m \u001b[0mutility\u001b[0m\u001b[0;34m.\u001b[0m\u001b[0mprint_preOrder\u001b[0m\u001b[0;34m(\u001b[0m\u001b[0mroot\u001b[0m\u001b[0;34m)\u001b[0m\u001b[0;34m\u001b[0m\u001b[0;34m\u001b[0m\u001b[0m\n\u001b[0m",
      "\u001b[0;31mAttributeError\u001b[0m: module 'utility' has no attribute 'print_preOrder'"
     ]
    }
   ],
   "source": [
    "#최적 이진 검색트리\n",
    "\n",
    "key = [\" \", \"A\" , \"B\" , \"C\", \"D\", \"E\"]\n",
    "p = [0, 4/15, 5/15 , 1/15, 3/15, 2/15]\n",
    "n = len(p) - 1\n",
    "\n",
    "a = [[0 for j in range(0 , n + 2)] for i in range(0 , n + 2)]\n",
    "r = [[0 for j in range(0 , n + 2)] for i in range(0 , n + 2)]\n",
    "\n",
    "for i in range(1, n + 1):\n",
    "  a[i][i - 1] = 0\n",
    "  a[i][i] = round(p[i], 2)\n",
    "  r[i][i] = i\n",
    "  r[i][i - 1] = 0\n",
    "a[n + 1][n] = 0\n",
    "r[n + 1][n] = 0\n",
    "\n",
    "for diagonal in range(1, n):\n",
    "  for i in range(1, n + 1 - diagonal):\n",
    "    j = i + diagonal\n",
    "\n",
    "    result = 1e9\n",
    "    p_sum = 0\n",
    "    min_k = 0\n",
    "\n",
    "    for k in range(i , j + 1):\n",
    "      p_sum += p[k]\n",
    "\n",
    "      if result > a[i][k - 1] + a[k + 1][j]:\n",
    "        result = a[i][k - 1] + a[k + 1][j]\n",
    "        min_k = k\n",
    "\n",
    "    a[i][j] = round(result + p_sum , 2)\n",
    "    r[i][j] = min_k\n",
    "\n",
    "def printMatrix(d):\n",
    "    n = len(d)\n",
    "    m = len(d[0])\n",
    "\n",
    "    for i in range(0, n):\n",
    "        for j in range(0 , m):\n",
    "            print(d[i][j] , end = \"\\t\")\n",
    "        print()\n",
    "\n",
    "printMatrix(a)\n",
    "print()\n",
    "printMatrix(r)\n",
    "print()\n",
    "\n",
    "root = Node.tree(key, r, 1, n)\n",
    "utility.print_inOrder(root)\n",
    "print()\n",
    "utility.print_preOrder(root)"
   ]
  },
  {
   "cell_type": "code",
   "execution_count": null,
   "metadata": {},
   "outputs": [],
   "source": []
  },
  {
   "cell_type": "code",
   "execution_count": null,
   "metadata": {},
   "outputs": [],
   "source": []
  },
  {
   "cell_type": "code",
   "execution_count": null,
   "metadata": {
    "colab": {
     "base_uri": "https://localhost:8080/"
    },
    "id": "RE6up13ASnV1",
    "outputId": "eed67b62-a198-42ee-8f5e-5f4ac8c68a22"
   },
   "outputs": [
    {
     "name": "stdout",
     "output_type": "stream",
     "text": [
      "7\t8\t10\t12\t13\t15\t16\t18\t20\t\n",
      "6\t6\t8\t10\t11\t13\t14\t16\t18\t\n",
      "6\t5\t6\t8\t9\t11\t12\t14\t16\t\n",
      "7\t5\t4\t6\t7\t9\t11\t12\t14\t\n",
      "9\t7\t5\t4\t5\t7\t9\t10\t12\t\n",
      "8\t8\t6\t4\t4\t5\t7\t8\t10\t\n",
      "9\t8\t7\t5\t3\t3\t5\t6\t8\t\n",
      "11\t9\t7\t6\t4\t2\t3\t4\t6\t\n",
      "13\t11\t9\t7\t5\t3\t1\t3\t4\t\n",
      "14\t12\t10\t8\t6\t4\t2\t1\t2\t\n",
      "16\t14\t12\t10\t8\t6\t4\t2\t0\t\n"
     ]
    }
   ],
   "source": [
    "# DNA서열\n",
    "\n",
    "a = ['A', 'A' , 'C' , 'A' , 'G' , 'T' , 'T' , 'A' , 'C' , 'C' , '-']\n",
    "b = ['T' , 'A' , 'A', 'G' , 'G' , 'T' , 'C' , 'A', '+'] \n",
    "\n",
    "m = len(a)\n",
    "n = len(b)\n",
    "\n",
    "table = [[0 for j in range(0 , n + 1)] for i in range(0, m + 1)]\n",
    "\n",
    "for j in range(n - 1, -1, -1):\n",
    "  table[m][j] = table[m][j + 1] + 2\n",
    "\n",
    "for i in range(m - 1, -1 , -1):\n",
    "  table[i][n] = table[i + 1][n] + 2\n",
    "\n",
    "def make(i, j): # i = 10 , j = 8\n",
    "  if i == 0 or j == 0:\n",
    "    return    \n",
    "  else:\n",
    "    if a[i - 1] == b[j - 1]:\n",
    "      penalty = 0\n",
    "    else:\n",
    "      penalty = 1\n",
    "\n",
    "    table[i][j] = min(table[i + 1][j + 1] + penalty , table[i + 1][j] + 2, table[i][j + 1] + 2)\n",
    "\n",
    "    make(i - 1, j)\n",
    "    make(i - 1 , j - 1)\n",
    "    make(i , j - 1)\n",
    "    return\n",
    "\n",
    "make(10, 8)\n",
    "\n",
    "def printMatrix(d):\n",
    "    n = len(d)\n",
    "    m = len(d[0])\n",
    "\n",
    "    for i in range(1, n):\n",
    "        for j in range(1 , m):\n",
    "            print(d[i][j] , end = \"\\t\")\n",
    "        print()\n",
    "\n",
    "printMatrix(table)"
   ]
  },
  {
   "cell_type": "code",
   "execution_count": null,
   "metadata": {
    "colab": {
     "base_uri": "https://localhost:8080/"
    },
    "id": "eInCIcjNSnX0",
    "outputId": "79f1f403-5ca9-447a-e223-d5252f880ab5"
   },
   "outputs": [
    {
     "name": "stdout",
     "output_type": "stream",
     "text": [
      "{(0, 1), (3, 2), (1, 5), (0, 3), (2, 4)}\n",
      "[0, 2, 3, 1, 4, 3]\n",
      "[0, 0, 3, 0, 2, 1]\n"
     ]
    }
   ],
   "source": [
    "# 다익스트라\n",
    "inf = 1000\n",
    "\n",
    "W = [[0 , 2, 4, 1, inf, inf],\n",
    "    [inf, 0 ,3, inf, inf, 1],\n",
    "    [inf, inf, 0 , inf, 1 , 5],\n",
    "    [inf, inf, 2, 0 , 6 , inf],\n",
    "    [inf, inf, inf, inf, 0 , 2],\n",
    "     [inf, inf, inf, inf, inf, 0]]\n",
    "\n",
    "n = len(W)\n",
    "f = set()\n",
    "touch = n * [0]\n",
    "length = n * [0]\n",
    "save_length = n * [0]\n",
    "\n",
    "for i in range(1, n):\n",
    "  touch[i] = 0\n",
    "  length[i] = W[0][i]\n",
    "\n",
    "for _ in range(n - 1):\n",
    "  min = 1000\n",
    "  for i in range(1, n):\n",
    "    if 0 <= length[i] < min:\n",
    "      min = length[i]\n",
    "      vnear = i\n",
    "  \n",
    "  e = (touch[vnear] , vnear)\n",
    "  f.add(e)\n",
    "\n",
    "  for i in range(1, n):\n",
    "    if length[vnear] + W[vnear][i] < length[i]:\n",
    "      length[i] = length[vnear] + W[vnear][i]\n",
    "      touch[i] = vnear\n",
    "      save_length[i] = length[vnear] + W[vnear][i]\n",
    "\n",
    "  save_length[vnear] = length[vnear]\n",
    "  length[vnear] = -1\n",
    "\n",
    "print(f)\n",
    "print(save_length)\n",
    "print(touch)\n",
    "\n"
   ]
  },
  {
   "cell_type": "code",
   "execution_count": null,
   "metadata": {
    "colab": {
     "base_uri": "https://localhost:8080/"
    },
    "id": "nZHdgGG7SnZS",
    "outputId": "cb909611-949f-4138-8be8-fcfcfcf0b986"
   },
   "outputs": [
    {
     "name": "stdout",
     "output_type": "stream",
     "text": [
      "[1, 4, 3, 2, 5]\n",
      "[1, 4, 3, 2, 5]\n",
      "[1, 2, 3, 4, 5]\n",
      "[1, 2, 3, 4, 5]\n",
      "result : [1, 2, 3, 4, 5]\n"
     ]
    }
   ],
   "source": [
    "# 퀵소트 \n",
    "\n",
    "def quickSort(s, low , high):\n",
    "    if low < high:\n",
    "        pivotIdx = partition(s, low, high)\n",
    "        print(s)\n",
    "        quickSort(s, low, pivotIdx - 1)\n",
    "        quickSort(s, pivotIdx + 1 , high)\n",
    "\n",
    "def partition(s, low, high):\n",
    "    pivotItem = s[low]\n",
    "    pivotIdx = low\n",
    "\n",
    "    for i in range(low + 1, high + 1):\n",
    "        if s[i] < pivotItem:\n",
    "            pivotIdx += 1\n",
    "            s[i], s[pivotIdx] = s[pivotIdx], s[i]\n",
    "    \n",
    "    s[pivotIdx] , s[low] = s[low] , s[pivotIdx]\n",
    "    \n",
    "    return pivotIdx\n",
    "    \n",
    "\n",
    "    \n",
    "s = [5,4,3,2,1]\n",
    "\n",
    "quickSort(s, 0 ,4)\n",
    "print(\"result :\", s)\n",
    "    "
   ]
  },
  {
   "cell_type": "code",
   "execution_count": null,
   "metadata": {
    "id": "CxFkMd2BSnbY"
   },
   "outputs": [],
   "source": [
    "# merge sort\n",
    "\n",
    "# 공간복잡도가 향상된 알고리즘\n",
    "\n",
    "s = [3,16,13,1 ,9,2,7,5, 8,4,11,6, 15,14,10,12]\n",
    "\n",
    "def merge2(low, mid , high):\n",
    "    i = low\n",
    "    j = mid + 1\n",
    "    k = low\n",
    "    \n",
    "    U = s.copy() # 합병에 필요한 지역배열\n",
    "    \n",
    "    while i <= mid and j <=high:\n",
    "        if s[i] < s[j]:\n",
    "            U[k] = s[i]\n",
    "            i += 1\n",
    "        else:\n",
    "            U[k] = s[j]\n",
    "            j += 1\n",
    "        k += 1\n",
    "    \n",
    "    if i > mid:\n",
    "        U[k : high + 1] = s[j : high + 1]\n",
    "    else:\n",
    "        U[k : high + 1] = s[i : mid + 1]\n",
    "        \n",
    "    s[low : high + 1] = U[low : high + 1] #  U를 복사한 뒤 반납   \n",
    "        \n",
    "\n",
    "def mergesort2(low, high):\n",
    "    mid = (low + high) // 2\n",
    "    if low < high:\n",
    "        mid = (low + high) // 2\n",
    "        mergesort2(low, mid)\n",
    "        mergesort2(mid + 1, high)\n",
    "        merge2(low, mid, high)\n",
    "    \n",
    "mergesort2(0, 15)\n",
    "print(\"정렬된 배열:\",s ,\"추가적인 저장 공간의 개수:\" , 0 , \"(지역함수에서 공간을 모두 반납했으므로)\")"
   ]
  },
  {
   "cell_type": "code",
   "execution_count": null,
   "metadata": {
    "id": "Ydf80qr90PMw"
   },
   "outputs": [],
   "source": []
  }
 ],
 "metadata": {
  "colab": {
   "collapsed_sections": [],
   "name": "중간시험준비.ipynb",
   "provenance": []
  },
  "kernelspec": {
   "display_name": "Python 3",
   "language": "python",
   "name": "python3"
  },
  "language_info": {
   "codemirror_mode": {
    "name": "ipython",
    "version": 3
   },
   "file_extension": ".py",
   "mimetype": "text/x-python",
   "name": "python",
   "nbconvert_exporter": "python",
   "pygments_lexer": "ipython3",
   "version": "3.8.5"
  }
 },
 "nbformat": 4,
 "nbformat_minor": 1
}
