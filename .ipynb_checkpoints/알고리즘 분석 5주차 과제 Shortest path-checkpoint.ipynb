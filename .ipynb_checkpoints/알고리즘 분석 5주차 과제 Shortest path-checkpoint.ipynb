{
 "cells": [
  {
   "cell_type": "code",
   "execution_count": 10,
   "metadata": {},
   "outputs": [
    {
     "name": "stdout",
     "output_type": "stream",
     "text": [
      "[[0, 0, 0, 0, 0], [0, 0, 0, 0, 0], [0, 0, 0, 0, 0], [0, 0, 0, 0, 0], [0, 0, 0, 0, 0]]\n",
      "\n",
      "0 1 3 1 4 \n",
      "8 0 3 2 5 \n",
      "10 11 0 4 7 \n",
      "6 7 2 0 3 \n",
      "3 4 6 4 0 \n",
      "[[4, 4, 1, 0, 3], [4, 4, 1, 0, 3], [4, 4, 1, 0, 3], [4, 4, 1, 0, 3], [4, 4, 1, 0, 3]]\n",
      "\n",
      "4 4 1 0 3 \n",
      "4 4 1 0 3 \n",
      "4 4 1 0 3 \n",
      "4 4 1 0 3 \n",
      "4 4 1 0 3 \n",
      "[[4, 4, 1, 0, 3], [4, 4, 1, 0, 3], [4, 4, 1, 0, 3], [4, 4, 1, 0, 3], [4, 4, 1, 0, 3]]\n"
     ]
    }
   ],
   "source": [
    "# Floyd 알고리즘\n",
    "\n",
    "def allShortestPath(g, n):\n",
    "    d = g.copy()\n",
    "    p = [[0] * n] * n\n",
    "    for k in range(0, n):\n",
    "        for i in range(0, n):\n",
    "            for j in range(0, n):\n",
    "                if d[i][j] >  d[i][k] + d[k][j]:\n",
    "                    if p[i][j] == 0:\n",
    "                        p[i][j] = k\n",
    "                    \n",
    "                    \n",
    "                    d[i][j] = d[i][k] + d[k][j]\n",
    "                    \n",
    "    return d, p\n",
    "    \n",
    "def printMatrix(d):\n",
    "    n = len(d[0])\n",
    "    for i in range(0, n):\n",
    "        for j in range(0, n):\n",
    "            print(d[i][j] , end = \" \")\n",
    "        print()\n",
    "    print(p)\n",
    "    \n",
    "inf = 1000\n",
    "\n",
    "g = [[0 , 1, inf, 1, 5],\n",
    "    [9, 0 ,3, 2, inf],\n",
    "    [inf, inf, 0 , 4, inf],\n",
    "    [inf, inf, 2, 0 , 3],\n",
    "    [3, inf, inf, inf, 0]]\n",
    "\n",
    "d, p = allShortestPath(g, 5)\n",
    "print()\n",
    "printMatrix(d)\n",
    "print()\n",
    "printMatrix(p)"
   ]
  },
  {
   "cell_type": "code",
   "execution_count": null,
   "metadata": {},
   "outputs": [],
   "source": [
    "()"
   ]
  }
 ],
 "metadata": {
  "kernelspec": {
   "display_name": "Python 3",
   "language": "python",
   "name": "python3"
  },
  "language_info": {
   "codemirror_mode": {
    "name": "ipython",
    "version": 3
   },
   "file_extension": ".py",
   "mimetype": "text/x-python",
   "name": "python",
   "nbconvert_exporter": "python",
   "pygments_lexer": "ipython3",
   "version": "3.8.5"
  }
 },
 "nbformat": 4,
 "nbformat_minor": 4
}
