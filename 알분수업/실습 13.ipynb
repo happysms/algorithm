{
 "cells": [
  {
   "cell_type": "code",
   "execution_count": 3,
   "metadata": {},
   "outputs": [
    {
     "name": "stdout",
     "output_type": "stream",
     "text": [
      "[1, 2, 3, 4, 5, 6, 7, 8, 9]\n"
     ]
    }
   ],
   "source": [
    "# 삽입정렬 알고리즘\n",
    "\n",
    "s = [3,2,5,7,1, 9,4, 6, 8]\n",
    "n = len(s)\n",
    "\n",
    "def insertionSort(s, n):\n",
    "    for i in range(1, n):\n",
    "        data = s[i]\n",
    "        j = i - 1\n",
    "        \n",
    "        while j >= 0 and s[j] > data:\n",
    "            s[j + 1] = s[j]\n",
    "            j -= 1\n",
    "        s[j + 1] = data\n",
    "\n",
    "insertionSort(s , n)\n",
    "print(s)\n"
   ]
  },
  {
   "cell_type": "code",
   "execution_count": 154,
   "metadata": {},
   "outputs": [],
   "source": [
    "import math\n",
    "\n",
    "class Heap():\n",
    "    \n",
    "    sort_list = [0]\n",
    "    \n",
    "    def __init__(self, data):\n",
    "        self.data = data\n",
    "        self.n = len(self.data) - 1 # 인덱스 1부터 2덱스 2* 연산이 가능하도록 -1\n",
    "        \n",
    "        \n",
    "    def siftUp(self, i, elt):\n",
    "        parent = math.floor(i / 2)\n",
    "        \n",
    "        while i >= 2:\n",
    "            if self.sort_list[i] > self.sort_list[parent]:\n",
    "                temp = self.sort_list[i]\n",
    "                self.sort_list[i] = self.sort_list[parent]\n",
    "                self.sort_list[parent] = temp\n",
    "                i = math.floor(i / 2)\n",
    "                parent = math.floor(i / 2)\n",
    "                \n",
    "            else:\n",
    "                break\n",
    "        \n",
    "        \n",
    "        \n",
    "        if i <= 1:\n",
    "            return False\n",
    "        \n",
    "        sift_key = elt\n",
    "        larger_child = 0\n",
    "        child = 2 * i\n",
    "        parent = i\n",
    "        spotfound = False\n",
    "        \n",
    "        \n",
    "        parent = i // 2\n",
    "        \n",
    "        if self.sort_list[i] > self.sort_list[parent]:\n",
    "            return True\n",
    "        else:\n",
    "            return False\n",
    "            \n",
    "    \n",
    "    def siftDown(self, i):\n",
    "        sift_key = self.sort_list[i]\n",
    "        larger_child = 0\n",
    "        child = 2 * i\n",
    "        parent = i\n",
    "        spotfound = False\n",
    "        \n",
    "        while child <= len(self.sort_list) and not spotfound:\n",
    "            if child < len(self.sort_list) and self.sort_list[child] < self.sort_list[child + 1]:\n",
    "                larger_child = child + 1\n",
    "            else:\n",
    "                larger_child = child\n",
    "            \n",
    "            if sift_key < self.sort_list[larger_child]:\n",
    "                sift_key = self.sort_list[larger_child]\n",
    "                parent = larger_child\n",
    "                \n",
    "            else:\n",
    "                spotfound = True\n",
    "        \n",
    "        self.sort_list[parent] = self.sort_list[i] \n",
    "        self.sort_list[i] = sift_key\n",
    "        \n",
    "        \n",
    "    \n",
    "    def makeHeap1(self):\n",
    "        for i in range(1, len(self.data)):\n",
    "            self.sort_list.append(self.data[i])\n",
    "            self.siftUp(i, self.data[i])\n",
    "            \n",
    "   \n",
    "            \n",
    "        \n",
    "    def root(self):\n",
    "        if self.n > 0:\n",
    "            return self.sort_list[1]\n",
    "        \n",
    "    def removeKeys(self):\n",
    "        key = self.sort_list[1]\n",
    "        self.sort_list[1] = self.sort_list[len(self.sort_list) - 1]\n",
    "        del self.sort_list[len(self.sort_list) - 1]\n",
    "        \n",
    "        for i in range(1 , math.floor(len(self.sort_list)/2)):\n",
    "            self.siftDown(i)\n",
    "        \n",
    "        return key\n",
    "        \n",
    "        \n",
    "    \n",
    "    def heapSort(self):\n",
    "        result = []\n",
    "        for i in range(1 , len(self.sort_list)):\n",
    "            result.append(self.removeKeys())\n",
    "        return result\n",
    "        "
   ]
  },
  {
   "cell_type": "code",
   "execution_count": null,
   "metadata": {},
   "outputs": [],
   "source": []
  },
  {
   "cell_type": "code",
   "execution_count": 152,
   "metadata": {},
   "outputs": [
    {
     "name": "stdout",
     "output_type": "stream",
     "text": [
      "[0, 11, 14, 2, 7, 6, 3, 9, 5]\n",
      "[14, 11, 9, 7, 6, 5, 3, 2]\n"
     ]
    }
   ],
   "source": [
    "a = [0, 11, 14, 2, 7, 6, 3, 9 , 5]\n",
    "b = Heap(a)\n",
    "b.makeHeap1()\n",
    "print(b.data)\n",
    "s = b.heapSort()\n",
    "print(s)"
   ]
  },
  {
   "cell_type": "code",
   "execution_count": 54,
   "metadata": {},
   "outputs": [
    {
     "data": {
      "text/plain": [
       "9"
      ]
     },
     "execution_count": 54,
     "metadata": {},
     "output_type": "execute_result"
    }
   ],
   "source": [
    "len(a)"
   ]
  },
  {
   "cell_type": "code",
   "execution_count": 109,
   "metadata": {},
   "outputs": [
    {
     "data": {
      "text/plain": [
       "9"
      ]
     },
     "execution_count": 109,
     "metadata": {},
     "output_type": "execute_result"
    }
   ],
   "source": [
    "len(b.data)"
   ]
  },
  {
   "cell_type": "code",
   "execution_count": 138,
   "metadata": {},
   "outputs": [
    {
     "data": {
      "text/plain": [
       "[0, 14, 11, 9, 7, 6, 2, 3, 5]"
      ]
     },
     "execution_count": 138,
     "metadata": {},
     "output_type": "execute_result"
    }
   ],
   "source": [
    "b.sort_list"
   ]
  },
  {
   "cell_type": "code",
   "execution_count": 140,
   "metadata": {},
   "outputs": [
    {
     "name": "stdout",
     "output_type": "stream",
     "text": [
      "[0, 5, 11, 9, 7, 6, 2, 3]\n"
     ]
    }
   ],
   "source": [
    "d = b.removeKeys()"
   ]
  },
  {
   "cell_type": "code",
   "execution_count": 134,
   "metadata": {},
   "outputs": [
    {
     "name": "stdout",
     "output_type": "stream",
     "text": [
      "14\n"
     ]
    }
   ],
   "source": [
    "print(d)"
   ]
  },
  {
   "cell_type": "code",
   "execution_count": 139,
   "metadata": {},
   "outputs": [
    {
     "data": {
      "text/plain": [
       "[0, 14, 11, 9, 7, 6, 2, 3, 5]"
      ]
     },
     "execution_count": 139,
     "metadata": {},
     "output_type": "execute_result"
    }
   ],
   "source": [
    "b.sort_list"
   ]
  },
  {
   "cell_type": "code",
   "execution_count": null,
   "metadata": {},
   "outputs": [],
   "source": []
  },
  {
   "cell_type": "code",
   "execution_count": null,
   "metadata": {},
   "outputs": [],
   "source": []
  },
  {
   "cell_type": "code",
   "execution_count": null,
   "metadata": {},
   "outputs": [],
   "source": []
  },
  {
   "cell_type": "code",
   "execution_count": null,
   "metadata": {},
   "outputs": [],
   "source": []
  }
 ],
 "metadata": {
  "kernelspec": {
   "display_name": "Python 3",
   "language": "python",
   "name": "python3"
  },
  "language_info": {
   "codemirror_mode": {
    "name": "ipython",
    "version": 3
   },
   "file_extension": ".py",
   "mimetype": "text/x-python",
   "name": "python",
   "nbconvert_exporter": "python",
   "pygments_lexer": "ipython3",
   "version": "3.8.5"
  }
 },
 "nbformat": 4,
 "nbformat_minor": 4
}
