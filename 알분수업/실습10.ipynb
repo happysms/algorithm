{
 "cells": [
  {
   "cell_type": "code",
   "execution_count": 2,
   "metadata": {},
   "outputs": [
    {
     "name": "stdout",
     "output_type": "stream",
     "text": [
      "Length : 5\n",
      "[0, 2, 4, 1, 3]\n",
      "[0, 3, 1, 4, 2]\n",
      "[1, 3, 0, 2, 4]\n",
      "[1, 4, 2, 0, 3]\n",
      "[2, 0, 3, 1, 4]\n",
      "[2, 4, 1, 3, 0]\n",
      "[3, 0, 2, 4, 1]\n",
      "[3, 1, 4, 2, 0]\n",
      "[4, 1, 3, 0, 2]\n",
      "[4, 2, 0, 3, 1]\n",
      "해의 개수 :  10\n",
      "3번째 해 :  [1, 3, 0, 2, 4]\n"
     ]
    }
   ],
   "source": [
    "#4-Queens 문제의 상태공간트리(되추적)\n",
    "result = []\n",
    "\n",
    "def promising(i, col): \n",
    "    switch = True\n",
    "    k = 0  # 현재 행보다 작은 행들의 정보를 탐색 \n",
    "    while k < i and switch:\n",
    "        if col[i] == col[k] or abs(col[i] - col[k]) == i - k: # 같은 column인지 확인 & 같은 대각에 있는지 확인\n",
    "            switch = False\n",
    "        k += 1 # switch가 False가 아니기에 다음 행을 탐색한다. \n",
    "    \n",
    "    return switch # 최종적으로 promising 인지 아닌지 반환하는 것\n",
    "\n",
    "def queens(n, i, col):\n",
    "    if promising(i, col):\n",
    "        if i == n - 1: # 끝까지 탐색했다면\n",
    "            print(col)\n",
    "            temp = col[:]\n",
    "            result.append(temp)\n",
    "        \n",
    "        else:\n",
    "            for j in range(0, n):\n",
    "                col[i + 1] = j # 같은 i + 1 열에 있는 것은 모두 j\n",
    "                queens(n ,i + 1, col)\n",
    "                \n",
    "\n",
    "\n",
    "n = int(input(\"Length : \"))\n",
    "col = n * [0]\n",
    "queens(n, -1 , col)\n",
    "print(\"해의 개수 : \", len(result))\n",
    "print(\"3번째 해 : \" , result[2])"
   ]
  },
  {
   "cell_type": "code",
   "execution_count": 4,
   "metadata": {},
   "outputs": [
    {
     "name": "stdout",
     "output_type": "stream",
     "text": [
      "[0, 2, 4, 1, 3]\n"
     ]
    },
    {
     "ename": "SystemExit",
     "evalue": "",
     "output_type": "error",
     "traceback": [
      "An exception has occurred, use %tb to see the full traceback.\n",
      "\u001b[0;31mSystemExit\u001b[0m\n"
     ]
    },
    {
     "name": "stderr",
     "output_type": "stream",
     "text": [
      "/opt/anaconda3/lib/python3.8/site-packages/IPython/core/interactiveshell.py:3426: UserWarning: To exit: use 'exit', 'quit', or Ctrl-D.\n",
      "  warn(\"To exit: use 'exit', 'quit', or Ctrl-D.\", stacklevel=1)\n"
     ]
    }
   ],
   "source": [
    "# 첫 번째 해까지만 찾기\n",
    "\n",
    "import sys\n",
    "\n",
    "def promising(i, col): \n",
    "    switch = True\n",
    "    k = 0  # 현재 행보다 작은 행들의 정보를 탐색 \n",
    "    while k < i and switch:\n",
    "        if col[i] == col[k] or abs(col[i] - col[k]) == i - k: # 같은 column인지 확인 & 같은 대각에 있는지 확인\n",
    "            switch = False\n",
    "        k += 1 # swithch가 False가 아니기에 다음 행을 탐색한다. \n",
    "    \n",
    "    return switch # 최종적으로 promising 인지 아닌지 반환하는 것\n",
    "\n",
    "def queens(n, i, col):\n",
    "    if promising(i, col):\n",
    "        if i == n - 1: # 끝까지 탐색했다면\n",
    "            print(col)\n",
    "            sys.exit()        \n",
    "        else:\n",
    "            for j in range(0, n):\n",
    "                col[i + 1] = j # 같은 i + 1 열에 있는 것은 모두 j\n",
    "                queens(n ,i + 1, col)\n",
    "                \n",
    "    \n",
    "n = 5\n",
    "col = n * [0]\n",
    "queens(n, -1 , col)"
   ]
  },
  {
   "cell_type": "code",
   "execution_count": 2,
   "metadata": {},
   "outputs": [],
   "source": [
    "# 행렬 출력\n",
    "def printMatrix(d):\n",
    "    n = len(d)\n",
    "    m = len(d[0])\n",
    "\n",
    "    for i in range(0, n):\n",
    "        for j in range(0 , m):\n",
    "            print(d[i][j] , end = \"\\t\")\n",
    "        print()"
   ]
  },
  {
   "cell_type": "code",
   "execution_count": 9,
   "metadata": {},
   "outputs": [
    {
     "name": "stdout",
     "output_type": "stream",
     "text": [
      "노드의 개수: 8\n",
      "엣지의 갯수: 13\n",
      "엣지 입력(시작노드 도착노드) : 0 1\n",
      "엣지 입력(시작노드 도착노드) : 0 2\n",
      "엣지 입력(시작노드 도착노드) : 0 3\n",
      "엣지 입력(시작노드 도착노드) : 1 2\n",
      "엣지 입력(시작노드 도착노드) : 1 5\n",
      "엣지 입력(시작노드 도착노드) : 2 3\n",
      "엣지 입력(시작노드 도착노드) : 2 4\n",
      "엣지 입력(시작노드 도착노드) : 2 5\n",
      "엣지 입력(시작노드 도착노드) : 2 6\n",
      "엣지 입력(시작노드 도착노드) : 3 4\n",
      "엣지 입력(시작노드 도착노드) : 3 6\n",
      "엣지 입력(시작노드 도착노드) : 4 6\n",
      "엣지 입력(시작노드 도착노드) : 4 7\n",
      "1 0\n",
      "2 1\n",
      "3 2\n",
      "4 3\n",
      "5 4\n",
      "6 6\n",
      "7 7\n",
      "8 5\n"
     ]
    }
   ],
   "source": [
    "# 깊이 우선 검색\n",
    "\n",
    "e = {0:[1,2,3] , 1: [2,5] , 2:[3,4,5,6] , 3:[4,6] , 4:[6,7], 5:[] , 6: [] , 7: []}\n",
    "\n",
    "n = int(input(\"노드의 개수: \"))\n",
    "m = int(input(\"엣지의 갯수: \"))\n",
    "\n",
    "\n",
    "e = [[] for i in range(n)]\n",
    "\n",
    "for i in range(m):\n",
    "    a, b = map(int, input(\"엣지 입력(시작노드 도착노드) : \").split())\n",
    "    e[a].append(b)\n",
    "\n",
    "\n",
    "visited = n * [0]\n",
    "cnt = 1\n",
    "\n",
    "def DFS(a, v):\n",
    "    global cnt\n",
    "    visited[v] = 1\n",
    "    print(cnt, v)\n",
    "    # 현재 노드와 연결된 다른 노드를 재귀적으로 방문\n",
    "    cnt += 1\n",
    "    for i in e[v]:\n",
    "        if not visited[i]:\n",
    "            DFS(a, i)\n",
    "            \n",
    "DFS(a, 0)"
   ]
  },
  {
   "cell_type": "code",
   "execution_count": 7,
   "metadata": {},
   "outputs": [
    {
     "data": {
      "text/plain": [
       "[[1, 3, 2], [2, 5], [3, 6, 4], [6, 4], [], [], [], []]"
      ]
     },
     "execution_count": 7,
     "metadata": {},
     "output_type": "execute_result"
    }
   ],
   "source": [
    "e"
   ]
  },
  {
   "cell_type": "code",
   "execution_count": null,
   "metadata": {},
   "outputs": [],
   "source": [
    "# Length : 7\n",
    "# [0, 2, 4, 6, 1, 3, 5]\n",
    "# [0, 3, 6, 2, 5, 1, 4]\n",
    "# [0, 4, 1, 5, 2, 6, 3]\n",
    "# [0, 5, 3, 1, 6, 4, 2]\n",
    "# [1, 3, 0, 6, 4, 2, 5]\n",
    "# [1, 3, 5, 0, 2, 4, 6]\n",
    "# [1, 4, 0, 3, 6, 2, 5]\n",
    "# [1, 4, 2, 0, 6, 3, 5]\n",
    "# [1, 4, 6, 3, 0, 2, 5]\n",
    "# [1, 5, 2, 6, 3, 0, 4]\n",
    "# [1, 6, 4, 2, 0, 5, 3]\n",
    "# [2, 0, 5, 1, 4, 6, 3]\n",
    "# [2, 0, 5, 3, 1, 6, 4]\n",
    "# [2, 4, 6, 1, 3, 5, 0]\n",
    "# [2, 5, 1, 4, 0, 3, 6]\n",
    "# [2, 6, 1, 3, 5, 0, 4]\n",
    "# [2, 6, 3, 0, 4, 1, 5]\n",
    "# [3, 0, 2, 5, 1, 6, 4]\n",
    "# [3, 0, 4, 1, 5, 2, 6]\n",
    "# [3, 1, 6, 4, 2, 0, 5]\n",
    "# [3, 5, 0, 2, 4, 6, 1]\n",
    "# [3, 6, 2, 5, 1, 4, 0]\n",
    "# [3, 6, 4, 1, 5, 0, 2]\n",
    "# [4, 0, 3, 6, 2, 5, 1]\n",
    "# [4, 0, 5, 3, 1, 6, 2]\n",
    "# [4, 1, 5, 2, 6, 3, 0]\n",
    "# [4, 2, 0, 5, 3, 1, 6]\n",
    "# [4, 6, 1, 3, 5, 0, 2]\n",
    "# [4, 6, 1, 5, 2, 0, 3]\n",
    "# [5, 0, 2, 4, 6, 1, 3]\n",
    "# [5, 1, 4, 0, 3, 6, 2]\n",
    "# [5, 2, 0, 3, 6, 4, 1]\n",
    "# [5, 2, 4, 6, 0, 3, 1]\n",
    "# [5, 2, 6, 3, 0, 4, 1]\n",
    "# [5, 3, 1, 6, 4, 2, 0]\n",
    "# [5, 3, 6, 0, 2, 4, 1]\n",
    "# [6, 1, 3, 5, 0, 2, 4]\n",
    "# [6, 2, 5, 1, 4, 0, 3]\n",
    "# [6, 3, 0, 4, 1, 5, 2]\n",
    "# [6, 4, 2, 0, 5, 3, 1]\n",
    "# 해의 개수 :  40\n",
    "# 3번째 해 :  [0, 4, 1, 5, 2, 6, 3]"
   ]
  },
  {
   "cell_type": "code",
   "execution_count": null,
   "metadata": {},
   "outputs": [],
   "source": []
  }
 ],
 "metadata": {
  "kernelspec": {
   "display_name": "Python 3",
   "language": "python",
   "name": "python3"
  },
  "language_info": {
   "codemirror_mode": {
    "name": "ipython",
    "version": 3
   },
   "file_extension": ".py",
   "mimetype": "text/x-python",
   "name": "python",
   "nbconvert_exporter": "python",
   "pygments_lexer": "ipython3",
   "version": "3.8.5"
  }
 },
 "nbformat": 4,
 "nbformat_minor": 4
}
