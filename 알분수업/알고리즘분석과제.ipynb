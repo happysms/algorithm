{
 "cells": [
  {
   "cell_type": "markdown",
   "metadata": {},
   "source": [
    "2021년 1학기 알고리즘분석 과제 2\n",
    "\n",
    "- 다음 python 프로그램을 작성하여 하나의 파일에 담아 e-campus에 업로드\n",
    "\n",
    "- 프로그램 파일명은 학번+이름.py 로 설정\n",
    "\n",
    "동일한 제출물은 마이너스 점수의 페널티 부과\n",
    "\n",
    " \n",
    "\n",
    "실습동영상 p3_divide_conquer_mergesort 에서 16쪽: [실습프로그램] 합병정렬, 22쪽: [실습프로그램] 합병정렬2에 대해\n",
    "\n",
    " \n",
    "\n",
    "각 합병정렬 알고리즘 수행에 필요한 추가적인 저장공간(합병정렬 ≒2n, 합병정렬2=n)을 계산할 수 있도록 기능을 추가하여 구현하라. 수행 종료 후 필요한 추가적인 저장공간의 개수 및 정렬된 데이터를 출력\n",
    "사용한 공간을 반납하는 과정을 고려하여야 함.\n",
    "하나의 프로그램으로 작성\n",
    "데이터 = [3,16,13,1 ,9,2,7,5, 8,4,11,6, 15,14,10,12]를 이용하여 프로그램을 검증한다."
   ]
  },
  {
   "cell_type": "code",
   "execution_count": 17,
   "metadata": {},
   "outputs": [
    {
     "name": "stdout",
     "output_type": "stream",
     "text": [
      "정렬된 배열: [1, 2, 3, 4, 5, 6, 7, 8, 9, 10, 11, 12, 13, 14, 15, 16] 추가적인 저장 공간의 개수: 0 (지역함수에서 공간을 모두 반납했으므로)\n"
     ]
    }
   ],
   "source": [
    "# 공간복잡도가 향상된 알고리즘\n",
    "\n",
    "s = [3,16,13,1 ,9,2,7,5, 8,4,11,6, 15,14,10,12]\n",
    "\n",
    "def merge2(low, mid , high):\n",
    "    i = low\n",
    "    j = mid + 1\n",
    "    k = low\n",
    "    \n",
    "    U = s.copy() # 합병에 필요한 지역배열\n",
    "    \n",
    "    while i <= mid and j <=high:\n",
    "        if s[i] < s[j]:\n",
    "            U[k] = s[i]\n",
    "            i += 1\n",
    "        else:\n",
    "            U[k] = s[j]\n",
    "            j += 1\n",
    "        k += 1\n",
    "    \n",
    "    if i > mid:\n",
    "        U[k : high + 1] = s[j : high + 1]\n",
    "    else:\n",
    "        U[k : high + 1] = s[i : mid + 1]\n",
    "        \n",
    "    s[low : high + 1] = U[low : high + 1] #  U를 복사한 뒤 반납   \n",
    "        \n",
    "\n",
    "def mergesort2(low, high):\n",
    "    mid = (low + high) // 2\n",
    "    if low < high:\n",
    "        mid = (low + high) // 2\n",
    "        mergesort2(low, mid)\n",
    "        mergesort2(mid + 1, high)\n",
    "        merge2(low, mid, high)\n",
    "    \n",
    "mergesort2(0, 15)\n",
    "print(\"정렬된 배열:\",s ,\"추가적인 저장 공간의 개수:\" , 0 , \"(지역함수에서 공간을 모두 반납했으므로)\")"
   ]
  },
  {
   "cell_type": "code",
   "execution_count": 1,
   "metadata": {},
   "outputs": [],
   "source": [
    "a = [1,2,3,4,5,6]\n",
    "b = [5,6,7,8,9,10]\n",
    "\n",
    "a[2:4] = b[2 : 4]"
   ]
  },
  {
   "cell_type": "code",
   "execution_count": 3,
   "metadata": {},
   "outputs": [],
   "source": [
    "b[2:4] = [1 , 1]"
   ]
  },
  {
   "cell_type": "code",
   "execution_count": 5,
   "metadata": {},
   "outputs": [],
   "source": [
    "a[2:4] = [3, 3]"
   ]
  },
  {
   "cell_type": "code",
   "execution_count": 6,
   "metadata": {},
   "outputs": [
    {
     "data": {
      "text/plain": [
       "[5, 6, 1, 1, 9, 10]"
      ]
     },
     "execution_count": 6,
     "metadata": {},
     "output_type": "execute_result"
    }
   ],
   "source": [
    "b"
   ]
  },
  {
   "cell_type": "code",
   "execution_count": 16,
   "metadata": {},
   "outputs": [
    {
     "data": {
      "text/plain": [
       "[1, 2, 3, 4, 5, 6, 7, 8, 9, 10, 11, 12, 13, 14, 15, 16]"
      ]
     },
     "execution_count": 16,
     "metadata": {},
     "output_type": "execute_result"
    }
   ],
   "source": [
    "s"
   ]
  },
  {
   "cell_type": "code",
   "execution_count": 1,
   "metadata": {},
   "outputs": [
    {
     "name": "stdout",
     "output_type": "stream",
     "text": [
      "[2, 3, 4, 5, 8, 9, 10, 14]\n"
     ]
    }
   ],
   "source": [
    "def quickSort(s, low , high):\n",
    "    if low < high:\n",
    "        pivotIdx = partition(s, low, high)\n",
    "        quickSort(s, low, pivotIdx - 1)\n",
    "        quickSort(s, pivotIdx + 1 , high)\n",
    "\n",
    "def partition(s, low, high):\n",
    "    pivotItem = s[low]\n",
    "    pivotIdx = low\n",
    "\n",
    "    for i in range(low + 1, high + 1):\n",
    "        if s[i] < pivotItem:\n",
    "            pivotIdx += 1\n",
    "            s[i], s[pivotIdx] = s[pivotIdx], s[i]\n",
    "    \n",
    "    s[pivotIdx] , s[low] = s[low] , s[pivotIdx]\n",
    "    \n",
    "    return pivotIdx\n",
    "    \n",
    "\n",
    "    \n",
    "s = [3, 5, 2, 9, 10, 14, 4, 8]\n",
    "\n",
    "quickSort(s, 0 ,7)\n",
    "print(s)\n",
    "    "
   ]
  },
  {
   "cell_type": "code",
   "execution_count": 6,
   "metadata": {},
   "outputs": [
    {
     "name": "stdout",
     "output_type": "stream",
     "text": [
      "2895899696997413071178363907942\n",
      "2895899696997413071178363907942\n"
     ]
    }
   ],
   "source": [
    "import math\n",
    "\n",
    "def prod2(a,b):\n",
    "    n = max(len(str(a)), len(str(b)))\n",
    "    \n",
    "    if a == 0 or b == 0:\n",
    "        return 0\n",
    "    \n",
    "    elif n <= 4:\n",
    "        return a * b\n",
    "    \n",
    "    else:\n",
    "        m = math.floor(n / 2)\n",
    "        x = a // pow(10 , m)\n",
    "        y = a % pow(10 , m)\n",
    "        w = b // pow(10 , m)\n",
    "        z = b % pow(10 , m)\n",
    "        \n",
    "        r = prod2(x + y , w + z)\n",
    "        p = prod2(x , w)\n",
    "        q = prod2(y , z)\n",
    "    \n",
    "        return p * pow(10, 2*m) + (r - p - q) * pow(10 , m) + q\n",
    "\n",
    "a = 1234567812345678\n",
    "b = 2345678923456789\n",
    "\n",
    "print(prod2(a , b))\n",
    "print(a * b)\n",
    "        "
   ]
  },
  {
   "cell_type": "code",
   "execution_count": null,
   "metadata": {},
   "outputs": [],
   "source": []
  },
  {
   "cell_type": "code",
   "execution_count": null,
   "metadata": {},
   "outputs": [],
   "source": []
  },
  {
   "cell_type": "code",
   "execution_count": null,
   "metadata": {},
   "outputs": [],
   "source": []
  },
  {
   "cell_type": "code",
   "execution_count": null,
   "metadata": {},
   "outputs": [],
   "source": []
  },
  {
   "cell_type": "code",
   "execution_count": null,
   "metadata": {},
   "outputs": [],
   "source": []
  },
  {
   "cell_type": "code",
   "execution_count": null,
   "metadata": {},
   "outputs": [],
   "source": []
  }
 ],
 "metadata": {
  "kernelspec": {
   "display_name": "Python 3",
   "language": "python",
   "name": "python3"
  },
  "language_info": {
   "codemirror_mode": {
    "name": "ipython",
    "version": 3
   },
   "file_extension": ".py",
   "mimetype": "text/x-python",
   "name": "python",
   "nbconvert_exporter": "python",
   "pygments_lexer": "ipython3",
   "version": "3.8.5"
  }
 },
 "nbformat": 4,
 "nbformat_minor": 4
}
