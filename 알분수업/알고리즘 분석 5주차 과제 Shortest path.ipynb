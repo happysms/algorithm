{
 "cells": [
  {
   "cell_type": "code",
   "execution_count": 42,
   "metadata": {},
   "outputs": [
    {
     "name": "stdout",
     "output_type": "stream",
     "text": [
      "0 1 3 1 4 \n",
      "8 0 3 2 5 \n",
      "10 11 0 4 7 \n",
      "6 7 2 0 3 \n",
      "3 4 6 4 0 \n",
      "\n",
      "0 0 4 0 4 \n",
      "5 0 0 0 4 \n",
      "5 5 0 0 4 \n",
      "5 5 0 0 0 \n",
      "0 1 4 1 0 \n",
      "\n",
      "v 1\n",
      "v 4\n"
     ]
    }
   ],
   "source": [
    "# 20171026777 소프트웨어융합학과 심민성\n",
    "\n",
    "def allShortestPath(g, n):\n",
    "    d = g.copy()\n",
    "    d.insert(0, [0] * (n + 1))\n",
    "    for i in range(1, n + 1):\n",
    "        d[i].insert(0, 0)\n",
    "    p = [[0] * (n + 1) for _ in range(n + 1)]\n",
    "    \n",
    "    for k in range(1, n + 1):\n",
    "        for i in range(1, n + 1):\n",
    "            for j in range(1, n + 1):\n",
    "                if d[i][j] >  d[i][k] + d[k][j]:\n",
    "                    p[i][j] = k\n",
    "                    d[i][j] = d[i][k] + d[k][j]     \n",
    "    return d, p\n",
    "    \n",
    "def printMatrix(d):\n",
    "    n = len(d[0])\n",
    "    for i in range(1, n):\n",
    "        for j in range(1 , n):\n",
    "            print(d[i][j] , end = \" \")\n",
    "        print()\n",
    "        \n",
    "        \n",
    "def path(p, q, r):\n",
    "    if p[q][r] != 0:\n",
    "        path(p, q, p[q][r])\n",
    "        print(\"v\", p[q][r])\n",
    "        path(p, p[q][r] , r)\n",
    "\n",
    "inf = 1000\n",
    "\n",
    "g = [[0 , 1, inf, 1, 5],\n",
    "    [9, 0 ,3, 2, inf],\n",
    "    [inf, inf, 0 , 4, inf],\n",
    "    [inf, inf, 2, 0 , 3],\n",
    "    [3, inf, inf, inf, 0]]\n",
    "\n",
    "d, p = allShortestPath(g, 5)\n",
    "\n",
    "printMatrix(d)\n",
    "\n",
    "print()\n",
    "printMatrix(p)\n",
    "\n",
    "print()\n",
    "\n",
    "path(p, 5, 3)\n",
    "\n"
   ]
  }
 ],
 "metadata": {
  "kernelspec": {
   "display_name": "Python 3",
   "language": "python",
   "name": "python3"
  },
  "language_info": {
   "codemirror_mode": {
    "name": "ipython",
    "version": 3
   },
   "file_extension": ".py",
   "mimetype": "text/x-python",
   "name": "python",
   "nbconvert_exporter": "python",
   "pygments_lexer": "ipython3",
   "version": "3.8.5"
  }
 },
 "nbformat": 4,
 "nbformat_minor": 4
}
