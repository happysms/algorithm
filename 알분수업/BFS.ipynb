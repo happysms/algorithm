{
 "cells": [
  {
   "cell_type": "code",
   "execution_count": null,
   "metadata": {},
   "outputs": [],
   "source": [
    "#14502번 연구소\n",
    "\n",
    "n, m = map(int, input().split())\n",
    "dx = [0, 0 , -1 , 1]\n",
    "dy = [1, -1 , 0 , 0]\n",
    "max_result = 0\n",
    "data = []\n",
    "for i in range(n):\n",
    "    s = list(map(int, input().split()))\n",
    "    data.append(s)\n",
    "    \n",
    "def bfs():\n",
    "    global max_result\n",
    "    c = [i.copy() for i in data]\n",
    "    result = 0\n",
    "    arr = []\n",
    "    \n",
    "    for i in range(n):\n",
    "        for j in range(m):\n",
    "            if c[i][j] == 2:\n",
    "                arr.append([i , j])\n",
    "    \n",
    "    while arr:\n",
    "        a, b = arr[0][0], arr[0][1]\n",
    "        del arr[0]\n",
    "        for i in range(4):\n",
    "            ax = a + dx[i]\n",
    "            ay = b + dy[i]\n",
    "            if 0 <= ax and 0 <= ay and ax < n and ay < m:\n",
    "                if c[ax][ay] == 0:\n",
    "                    c[ax][ay] = 2\n",
    "                    arr.append([ax, ay])\n",
    "    for i in c:\n",
    "        for j in i:\n",
    "            if j == 0:\n",
    "                result += 1\n",
    "    max_result = max(max_result , result)\n",
    "    \n",
    "def wall(cnt):\n",
    "    if cnt == 3:\n",
    "        bfs()\n",
    "    for i in range(n):\n",
    "        for j in range(m):\n",
    "            if data[i][j] == 0:\n",
    "                data[i][j] = 1\n",
    "                wall(cnt + 1)\n",
    "                data[i][j] = 0\n",
    "\n",
    "                \n",
    "wall(0)\n",
    "print(max_result)"
   ]
  },
  {
   "cell_type": "code",
   "execution_count": null,
   "metadata": {},
   "outputs": [],
   "source": [
    "# n / 3 ~ 2 * (n / 3) - 1\n",
    "\n",
    "n = int(input())\n",
    "\n",
    "data = [[\"*\"] * n for i in range(n)]\n",
    "\n",
    "def make(n):\n",
    "    for i in range(n, 2n):\n",
    "        for j in range(n, 2n):\n",
    "            data[i][j] = \" \"\n",
    "\n",
    "\n",
    "def recursion(length, x, y):\n",
    "    global data\n",
    "    if length == 1:\n",
    "        return\n",
    "    for row in data[x - length + length // 3: x - length//3]:\n",
    "        row[y - length + length // 3 : y - length // 3] = ' '*(length // 3)\n",
    "    \n",
    "        \n",
    "    \n",
    "\n",
    "    \n",
    "            \n",
    "    \n"
   ]
  },
  {
   "cell_type": "code",
   "execution_count": null,
   "metadata": {},
   "outputs": [],
   "source": [
    "# 4963번 섬의 개수 \n",
    "from collections import deque\n",
    "\n",
    "n , m = map(int, input().split())\n",
    "\n",
    "dx = [1, -1, 0, 0, 1, -1, 1, -1]\n",
    "dy = [0, 0, -1, 1, -1, -1, 1, 1]\n",
    "\n",
    "data = [[] for _ in range(m)]\n",
    "visit = [[False] * n for _ in range(m)]\n",
    "\n",
    "for i in range(n):\n",
    "    global result\n",
    "    result = 1\n",
    "    a = list(map(int, input().split()))\n",
    "    data[i].append(a)\n",
    "    \n",
    "def bfs(x , y):\n",
    "    queue = deque()\n",
    "    queue.append((x,y))\n",
    "    \n",
    "    while queue:\n",
    "        for i in range(4):\n",
    "            new_x = x + dx[i]\n",
    "            new_y = y + dy[i]\n",
    "        \n",
    "        if 0 <= new_x < n and 0 <= new_y < m:\n",
    "            pop = queue.popleft()\n",
    "            \n",
    "    \n",
    "result = 0\n",
    "for i in range(n): #y\n",
    "    for j in range(m): #x\n",
    "        if data[i][j] == 1:\n",
    "            \n",
    "            \n"
   ]
  },
  {
   "cell_type": "code",
   "execution_count": 3,
   "metadata": {},
   "outputs": [],
   "source": []
  },
  {
   "cell_type": "code",
   "execution_count": 4,
   "metadata": {},
   "outputs": [],
   "source": [
    "queue1 = deque()\n",
    "queue1.append((1,1))"
   ]
  },
  {
   "cell_type": "code",
   "execution_count": 5,
   "metadata": {},
   "outputs": [
    {
     "data": {
      "text/plain": [
       "deque([(1, 1)])"
      ]
     },
     "execution_count": 5,
     "metadata": {},
     "output_type": "execute_result"
    }
   ],
   "source": [
    "queue1\n"
   ]
  },
  {
   "cell_type": "code",
   "execution_count": null,
   "metadata": {},
   "outputs": [],
   "source": []
  },
  {
   "cell_type": "code",
   "execution_count": null,
   "metadata": {},
   "outputs": [],
   "source": []
  },
  {
   "cell_type": "code",
   "execution_count": null,
   "metadata": {},
   "outputs": [],
   "source": []
  },
  {
   "cell_type": "code",
   "execution_count": null,
   "metadata": {},
   "outputs": [],
   "source": []
  },
  {
   "cell_type": "code",
   "execution_count": null,
   "metadata": {},
   "outputs": [],
   "source": []
  },
  {
   "cell_type": "code",
   "execution_count": null,
   "metadata": {},
   "outputs": [],
   "source": []
  },
  {
   "cell_type": "code",
   "execution_count": null,
   "metadata": {},
   "outputs": [],
   "source": []
  },
  {
   "cell_type": "code",
   "execution_count": null,
   "metadata": {},
   "outputs": [],
   "source": []
  },
  {
   "cell_type": "code",
   "execution_count": null,
   "metadata": {},
   "outputs": [],
   "source": []
  },
  {
   "cell_type": "code",
   "execution_count": null,
   "metadata": {},
   "outputs": [],
   "source": []
  }
 ],
 "metadata": {
  "kernelspec": {
   "display_name": "Python 3",
   "language": "python",
   "name": "python3"
  },
  "language_info": {
   "codemirror_mode": {
    "name": "ipython",
    "version": 3
   },
   "file_extension": ".py",
   "mimetype": "text/x-python",
   "name": "python",
   "nbconvert_exporter": "python",
   "pygments_lexer": "ipython3",
   "version": "3.8.5"
  }
 },
 "nbformat": 4,
 "nbformat_minor": 4
}
