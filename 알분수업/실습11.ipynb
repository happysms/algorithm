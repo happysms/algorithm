{
 "cells": [
  {
   "cell_type": "code",
   "execution_count": 44,
   "metadata": {},
   "outputs": [
    {
     "name": "stdout",
     "output_type": "stream",
     "text": [
      "[1, 1, 0, 0, 0, 1]\n",
      "[1, 0, 1, 0, 1, 0]\n",
      "[0, 1, 1, 1, 0, 0]\n",
      "[0, 0, 1, 0, 0, 1]\n",
      "[0, 0, 0, 1, 1, 0]\n"
     ]
    }
   ],
   "source": [
    "# 부분집합의 합\n",
    "\n",
    "def promising1(i , weight, total):\n",
    "    if ((weight + total) >= W) and (weight == W or (weight + S[i + 1]) <= W):\n",
    "        return True\n",
    "    else:\n",
    "        return False\n",
    "\n",
    "def s_s(i , weight, total, include):\n",
    "    if (promising1(i, weight, total)):\n",
    "        if weight == W:\n",
    "            print(include)\n",
    "        else:\n",
    "            include[i + 1] = 1\n",
    "            s_s(i + 1 , weight + S[i + 1], total - S[i + 1], include)\n",
    "            include[i + 1] = 0\n",
    "            s_s(i + 1, weight, total - S[i + 1], include)\n",
    "\n",
    "n = 6\n",
    "S = [1,2,3,4,5,6]\n",
    "S.sort()\n",
    "W = 9\n",
    "include = n * [0]\n",
    "total = 0\n",
    "for k in S:\n",
    "    total += k\n",
    "\n",
    "s_s(-1, 0, total, include)"
   ]
  },
  {
   "cell_type": "code",
   "execution_count": null,
   "metadata": {},
   "outputs": [],
   "source": [
    "   "
   ]
  },
  {
   "cell_type": "code",
   "execution_count": 34,
   "metadata": {},
   "outputs": [
    {
     "name": "stdout",
     "output_type": "stream",
     "text": [
      "[1, 2, 3, 2]\n",
      "[1, 3, 2, 3]\n",
      "[2, 1, 3, 1]\n",
      "[2, 3, 1, 3]\n",
      "[3, 1, 2, 1]\n",
      "[3, 2, 1, 2]\n"
     ]
    }
   ],
   "source": [
    "# m_coloring\n",
    "\n",
    "def color(i , vcolor):\n",
    "    if promising(i, vcolor):\n",
    "        if i == n - 1:\n",
    "            print(vcolor)\n",
    "        else:\n",
    "            for c in range(1, m + 1):   \n",
    "                vcolor[i + 1] = c\n",
    "                color(i + 1 , vcolor)\n",
    "                \n",
    "                \n",
    "            \n",
    "    \n",
    "def promising(i, vcolor):\n",
    "    switch = True\n",
    "    j = 0\n",
    "    while(j < i and switch):\n",
    "        if w[i][j] and vcolor[i] == vcolor[j]:\n",
    "            switch = False\n",
    "        j += 1\n",
    "    return switch\n",
    "    \n",
    "    \n",
    "n = 4\n",
    "w = [[0,1,1,1], [1,0,1,0] , [1,1,0,1], [1,0,1,0]]\n",
    "vcolor = n * [0]\n",
    "m = 3\n",
    "color(-1, vcolor)"
   ]
  }
 ],
 "metadata": {
  "kernelspec": {
   "display_name": "Python 3",
   "language": "python",
   "name": "python3"
  },
  "language_info": {
   "codemirror_mode": {
    "name": "ipython",
    "version": 3
   },
   "file_extension": ".py",
   "mimetype": "text/x-python",
   "name": "python",
   "nbconvert_exporter": "python",
   "pygments_lexer": "ipython3",
   "version": "3.8.5"
  }
 },
 "nbformat": 4,
 "nbformat_minor": 4
}
