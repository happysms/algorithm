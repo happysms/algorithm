{
 "cells": [
  {
   "cell_type": "code",
   "execution_count": 4,
   "metadata": {},
   "outputs": [
    {
     "name": "stdout",
     "output_type": "stream",
     "text": [
      "5\n",
      "R R R U D D\n",
      "4 3\n"
     ]
    }
   ],
   "source": [
    "# abs상하좌우\n",
    "\n",
    "n = int(input())\n",
    "x = 1\n",
    "y = 1\n",
    "\n",
    "plans = input().split()\n",
    "\n",
    "dx = [-1, 1, 0, 0]\n",
    "dy = [0, 0, -1, 1]\n",
    "move_types = ['L' ,'R', 'U', 'D']\n",
    "\n",
    "for plan in plans:\n",
    "    # 이동 후 좌표 구하기\n",
    "    for i in range(len(move_types)):\n",
    "        if plan == move_types[i]:\n",
    "            nx = x + dx[i]\n",
    "            ny = y + dy[i]\n",
    "        #공간을 벗어나는 경우 무시\n",
    "    if nx < 1 or ny < 1 or nx > n or ny > n:\n",
    "        continue\n",
    "    x, y = nx, ny\n",
    "\n",
    "\n",
    "print(x, y)"
   ]
  },
  {
   "cell_type": "code",
   "execution_count": 5,
   "metadata": {},
   "outputs": [],
   "source": [
    "# 시각\n",
    "\n",
    "# h : 24, m : 60, s: 60\n",
    "\n",
    "count = 0\n",
    "for i in range(24):\n",
    "    for j in range(60):\n",
    "        for k in range(60):\n",
    "            if '3' in str(i) + str(j) + str(k):\n",
    "                count += 1"
   ]
  },
  {
   "cell_type": "code",
   "execution_count": 7,
   "metadata": {},
   "outputs": [
    {
     "name": "stdout",
     "output_type": "stream",
     "text": [
      "4 4 \n",
      "1 1 0\n",
      "1 1 1 1\n",
      "1 0 0 1\n",
      "1 1 0 1\n",
      "1 1 1 1\n",
      "3\n"
     ]
    }
   ],
   "source": [
    "# 게임 개발\n",
    "\n",
    "n, m = map(int, input().split())\n",
    "\n",
    "d = [[0] * m for i in range(n)]\n",
    "\n",
    "x, y, direction = map(int, input().split())\n",
    "d[x][y] = 1 # 현재 좌표 방문 처리\n",
    "\n",
    "# 전체 맵정보 입력받기\n",
    "data = []\n",
    "for i in range(n):\n",
    "    data.append(list(map(int, input().split())))\n",
    "    \n",
    "dx = [-1 , 0 , 1, 0]\n",
    "dy = [0, 1, 0 , -1]\n",
    "\n",
    "\n",
    "def turn_left():\n",
    "    global direction\n",
    "    direction -= 1\n",
    "    if direction == -1:\n",
    "        direction = 3\n",
    "\n",
    "# 시뮬레이션 시작\n",
    "count = 1\n",
    "turn_time = 0\n",
    "while True:\n",
    "    # 왼쪽으로 회전\n",
    "    turn_left()\n",
    "    nx = x + dx[direction]\n",
    "    ny = y + dy[direction]\n",
    "    # 회전한 이후 정면에 가보지 않은 칸이 존재하는 경우 이동\n",
    "    \n",
    "    if d[nx][ny] == 0 and data[nx][ny] == 0:\n",
    "        d[nx][ny] = 1\n",
    "        x = nx\n",
    "        y = ny\n",
    "        count += 1\n",
    "        turn_time = 0\n",
    "        continue\n",
    "    \n",
    "    # 회전한 이후 정면에 가보지 않은 칸이 없거나 바다인 경우\n",
    "    else:\n",
    "        turn_time += 1\n",
    "        \n",
    "    # 네방향 모두 갈 수 없는 경우\n",
    "    if turn_time == 4:\n",
    "        nx = x - dx[direction]\n",
    "        ny = y - dy[direction]\n",
    "        \n",
    "        #뒤로 갈 수 있다면 이동하기\n",
    "        if data[nx][ny] == 0:\n",
    "            x = nx\n",
    "            y = ny\n",
    "        #뒤가 바다로 막혀있는 경우\n",
    "        else:\n",
    "            break\n",
    "            \n",
    "        turn_time = 0\n",
    "        \n",
    "print(count)"
   ]
  },
  {
   "cell_type": "code",
   "execution_count": null,
   "metadata": {},
   "outputs": [],
   "source": []
  },
  {
   "cell_type": "code",
   "execution_count": null,
   "metadata": {},
   "outputs": [],
   "source": []
  },
  {
   "cell_type": "code",
   "execution_count": null,
   "metadata": {},
   "outputs": [],
   "source": []
  },
  {
   "cell_type": "code",
   "execution_count": null,
   "metadata": {},
   "outputs": [],
   "source": []
  },
  {
   "cell_type": "code",
   "execution_count": null,
   "metadata": {},
   "outputs": [],
   "source": []
  },
  {
   "cell_type": "code",
   "execution_count": null,
   "metadata": {},
   "outputs": [],
   "source": []
  },
  {
   "cell_type": "code",
   "execution_count": null,
   "metadata": {},
   "outputs": [],
   "source": []
  },
  {
   "cell_type": "code",
   "execution_count": null,
   "metadata": {},
   "outputs": [],
   "source": []
  },
  {
   "cell_type": "code",
   "execution_count": null,
   "metadata": {},
   "outputs": [],
   "source": []
  },
  {
   "cell_type": "code",
   "execution_count": null,
   "metadata": {},
   "outputs": [],
   "source": []
  },
  {
   "cell_type": "code",
   "execution_count": null,
   "metadata": {},
   "outputs": [],
   "source": []
  },
  {
   "cell_type": "code",
   "execution_count": null,
   "metadata": {},
   "outputs": [],
   "source": []
  },
  {
   "cell_type": "code",
   "execution_count": null,
   "metadata": {},
   "outputs": [],
   "source": []
  },
  {
   "cell_type": "code",
   "execution_count": null,
   "metadata": {},
   "outputs": [],
   "source": []
  },
  {
   "cell_type": "code",
   "execution_count": null,
   "metadata": {},
   "outputs": [],
   "source": []
  },
  {
   "cell_type": "code",
   "execution_count": null,
   "metadata": {},
   "outputs": [],
   "source": []
  },
  {
   "cell_type": "code",
   "execution_count": null,
   "metadata": {},
   "outputs": [],
   "source": []
  },
  {
   "cell_type": "code",
   "execution_count": null,
   "metadata": {},
   "outputs": [],
   "source": []
  }
 ],
 "metadata": {
  "kernelspec": {
   "display_name": "Python 3",
   "language": "python",
   "name": "python3"
  },
  "language_info": {
   "codemirror_mode": {
    "name": "ipython",
    "version": 3
   },
   "file_extension": ".py",
   "mimetype": "text/x-python",
   "name": "python",
   "nbconvert_exporter": "python",
   "pygments_lexer": "ipython3",
   "version": "3.8.5"
  }
 },
 "nbformat": 4,
 "nbformat_minor": 4
}
